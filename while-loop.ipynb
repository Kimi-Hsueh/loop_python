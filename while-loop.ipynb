{
 "cells": [
  {
   "cell_type": "code",
   "execution_count": 1,
   "metadata": {},
   "outputs": [
    {
     "name": "stdout",
     "output_type": "stream",
     "text": [
      "55\n"
     ]
    }
   ],
   "source": [
    "#使用while迴圈計算1到10的總合\n",
    "total=0\n",
    "x=1\n",
    "y=10\n",
    "while x<=y: #與for迴圈的不同點是，終止值不用再n-1了\n",
    "    total+=x\n",
    "    x+=1\n",
    "print(total)"
   ]
  },
  {
   "cell_type": "code",
   "execution_count": null,
   "metadata": {},
   "outputs": [],
   "source": [
    "#算出自己指定的一段數字總合\n",
    "import pyinputplus as pyip\n",
    "total=0\n",
    "x=pyip.inputInt(prompt='請給我起始數字',min=0)\n",
    "y=pyip.inputInt(prompt='請給我終止值',min=x)\n",
    "print()\n",
    "print(f'起始值={x}')\n",
    "print(f'終止值={y}')\n",
    "while x<=y:\n",
    "    total+=x\n",
    "    x+=1\n",
    "print(f'總合是{total}')"
   ]
  },
  {
   "cell_type": "code",
   "execution_count": null,
   "metadata": {},
   "outputs": [],
   "source": [
    "#While迴圈加上if/elif判斷式\n",
    "#小明想要存錢買一輛機車,機車每輛39800元，他將每月存的錢輸入，當存款足夠買機車時，就顯示提示訊息告知。\n",
    "import pyinputplus as pyip\n",
    "month=0\n",
    "deposit=0\n",
    "while deposit<39800:\n",
    "    month+=1\n",
    "    income=pyip.inputInt(prompt=f'第{month}個月存入的金額')\n",
    "    print(f'{income}元')\n",
    "    deposit+=income\n",
    "    print(f'第{month}個月累計{deposit}元')\n",
    "    if deposit<39800:\n",
    "        print(f'小明還差{39800-deposit}元')\n",
    "    print('=====小明請加油=====')\n",
    "print(f'經過了{month}個月，小明存了{deposit}元，小明可以買車了')"
   ]
  }
 ],
 "metadata": {
  "kernelspec": {
   "display_name": "Python 3",
   "language": "python",
   "name": "python3"
  },
  "language_info": {
   "codemirror_mode": {
    "name": "ipython",
    "version": 3
   },
   "file_extension": ".py",
   "mimetype": "text/x-python",
   "name": "python",
   "nbconvert_exporter": "python",
   "pygments_lexer": "ipython3",
   "version": "3.10.8"
  },
  "orig_nbformat": 4
 },
 "nbformat": 4,
 "nbformat_minor": 2
}

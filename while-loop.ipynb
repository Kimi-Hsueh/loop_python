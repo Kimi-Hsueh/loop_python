{
 "cells": [
  {
   "cell_type": "code",
   "execution_count": 1,
   "metadata": {},
   "outputs": [
    {
     "name": "stdout",
     "output_type": "stream",
     "text": [
      "55\n"
     ]
    }
   ],
   "source": [
    "#使用while迴圈計算1到10的總合\n",
    "total=0\n",
    "x=1\n",
    "y=10\n",
    "while x<=y: #與for迴圈的不同點是，終止值不用再n-1了\n",
    "    total+=x\n",
    "    x+=1\n",
    "print(total)"
   ]
  },
  {
   "cell_type": "code",
   "execution_count": null,
   "metadata": {},
   "outputs": [],
   "source": [
    "#算出自己指定的一段數字總合\n",
    "import pyinputplus as pyip\n",
    "total=0\n",
    "x=pyip.inputInt(prompt='請給我起始數字',min=0)\n",
    "y=pyip.inputInt(prompt='請給我終止值',min=x)\n",
    "print()\n",
    "print(f'起始值={x}')\n",
    "print(f'終止值={y}')\n",
    "while x<=y:\n",
    "    total+=x\n",
    "    x+=1\n",
    "print(f'總合是{total}')"
   ]
  },
  {
   "cell_type": "code",
   "execution_count": null,
   "metadata": {},
   "outputs": [],
   "source": [
    "#While迴圈加上if/elif判斷式\n",
    "#小明想要存錢買一輛機車,機車每輛39800元，他將每月存的錢輸入，當存款足夠買機車時，就顯示提示訊息告知。\n",
    "import pyinputplus as pyip\n",
    "month=0\n",
    "deposit=0\n",
    "while deposit<39800:\n",
    "    month+=1\n",
    "    income=pyip.inputInt(prompt=f'第{month}個月存入的金額')\n",
    "    print(f'{income}元')\n",
    "    deposit+=income\n",
    "    print(f'第{month}個月累計{deposit}元')\n",
    "    if deposit<39800:\n",
    "        print(f'小明還差{39800-deposit}元')\n",
    "    print('=====小明請加油=====')\n",
    "print(f'經過了{month}個月，小明存了{deposit}元，小明可以買車了')"
   ]
  },
  {
   "cell_type": "code",
   "execution_count": 2,
   "metadata": {},
   "outputs": [
    {
     "name": "stdout",
     "output_type": "stream",
     "text": [
      "a\n",
      "b\n",
      "c\n",
      "d\n",
      "q\n"
     ]
    }
   ],
   "source": [
    "# 如何停止迴圈->break\n",
    "while (True):\n",
    "    insert=input('按下q即中止迴圈')\n",
    "    print(insert)\n",
    "    if insert=='q':\n",
    "        break"
   ]
  },
  {
   "cell_type": "code",
   "execution_count": 4,
   "metadata": {},
   "outputs": [
    {
     "name": "stdout",
     "output_type": "stream",
     "text": [
      "5\n",
      "5的平方為25\n",
      "10\n",
      "你輸入的是10, 請給我一個奇數\n",
      "9\n",
      "9的平方為81\n",
      "q\n"
     ]
    }
   ],
   "source": [
    "#按下q則離開\n",
    "#使用try/expect/else進行此迴圈\n",
    "#輸入奇數輸出平方\n",
    "#輸入偶數顯示“請重新輸入”\n",
    "while (True):\n",
    "    insert=input('按下q即中止迴圈')\n",
    "    print(insert)\n",
    "    if insert=='q':\n",
    "        break\n",
    "    try:\n",
    "        v1=int(insert)\n",
    "    except:\n",
    "        print('請輸入數字')\n",
    "        continue\n",
    "    else:\n",
    "        if v1%2==0:\n",
    "            print(f'你輸入的是{v1}, 請給我一個奇數')\n",
    "            continue\n",
    "        elif v1%2==1:\n",
    "            print(f'{v1}的平方為{v1**2}')\n",
    "            \n",
    "\n"
   ]
  },
  {
   "cell_type": "code",
   "execution_count": 11,
   "metadata": {},
   "outputs": [
    {
     "name": "stdout",
     "output_type": "stream",
     "text": [
      "輸入必須為10~20之間的數字, 或按q可離開程式\n",
      "輸入必須為10~20之間的數字, 或按q可離開程式\n",
      "輸入正確，並已離開程式\n"
     ]
    }
   ],
   "source": [
    "#按下q則離開\n",
    "#如果輸入str字串，顯示'請給我一個數字'\n",
    "#如果輸入的數字是10到20之間，則停止迴圈\n",
    "#如果輸入的數字區間不是10~20之間，顯示'請輸入10~20之間的數字'\n",
    "while (True):\n",
    "    insert = input('請輸入10到20之間的數字')\n",
    "    if insert =='q':\n",
    "        print('已離開程式')\n",
    "        break\n",
    "    try:\n",
    "        v1=int(insert)\n",
    "    except:\n",
    "        print('輸入必須為10~20之間的數字, 或按q可離開程式')\n",
    "    else:\n",
    "        if v1<20 and v1>10:\n",
    "            print('輸入正確，並已離開程式')\n",
    "            break\n",
    "        else:\n",
    "            print('請重新輸入10~20之間的數字')\n",
    "            continue\n",
    "\n"
   ]
  }
 ],
 "metadata": {
  "kernelspec": {
   "display_name": "Python 3",
   "language": "python",
   "name": "python3"
  },
  "language_info": {
   "codemirror_mode": {
    "name": "ipython",
    "version": 3
   },
   "file_extension": ".py",
   "mimetype": "text/x-python",
   "name": "python",
   "nbconvert_exporter": "python",
   "pygments_lexer": "ipython3",
   "version": "3.10.8"
  },
  "orig_nbformat": 4
 },
 "nbformat": 4,
 "nbformat_minor": 2
}

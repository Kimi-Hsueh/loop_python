{
 "cells": [
  {
   "cell_type": "code",
   "execution_count": null,
   "metadata": {},
   "outputs": [],
   "source": [
    "num = int(input(\"請輸入整數，求所有因數:\"))\n",
    "x=1\n",
    "while x<=num:\n",
    "    if num%x==0:\n",
    "        print(f'{x}為{num}的因數')\n",
    "        x+=1\n",
    "        continue\n",
    "    elif num%x!=0:\n",
    "        x+=1\n",
    "        continue"
   ]
  },
  {
   "cell_type": "code",
   "execution_count": 4,
   "metadata": {},
   "outputs": [
    {
     "name": "stdout",
     "output_type": "stream",
     "text": [
      "1*1=1\t1*2=2\t1*3=3\t1*4=4\t1*5=5\t1*6=6\t1*7=7\t1*8=8\t1*9=9\t\n",
      "2*1=2\t2*2=4\t2*3=6\t2*4=8\t2*5=10\t2*6=12\t2*7=14\t2*8=16\t2*9=18\t\n",
      "3*1=3\t3*2=6\t3*3=9\t3*4=12\t3*5=15\t3*6=18\t3*7=21\t3*8=24\t3*9=27\t\n",
      "4*1=4\t4*2=8\t4*3=12\t4*4=16\t4*5=20\t4*6=24\t4*7=28\t4*8=32\t4*9=36\t\n",
      "5*1=5\t5*2=10\t5*3=15\t5*4=20\t5*5=25\t5*6=30\t5*7=35\t5*8=40\t5*9=45\t\n",
      "6*1=6\t6*2=12\t6*3=18\t6*4=24\t6*5=30\t6*6=36\t6*7=42\t6*8=48\t6*9=54\t\n",
      "7*1=7\t7*2=14\t7*3=21\t7*4=28\t7*5=35\t7*6=42\t7*7=49\t7*8=56\t7*9=63\t\n",
      "8*1=8\t8*2=16\t8*3=24\t8*4=32\t8*5=40\t8*6=48\t8*7=56\t8*8=64\t8*9=72\t\n",
      "9*1=9\t9*2=18\t9*3=27\t9*4=36\t9*5=45\t9*6=54\t9*7=63\t9*8=72\t9*9=81\t\n"
     ]
    }
   ],
   "source": [
    "#使用For的巢狀廻圈做99乘法表\n",
    "for i in range(1,10):\n",
    "    for j in range(1,10):\n",
    "        print(f'{i}*{j}={i*j}',end=\"\\t\")\n",
    "    print()"
   ]
  },
  {
   "cell_type": "code",
   "execution_count": 23,
   "metadata": {},
   "outputs": [
    {
     "name": "stdout",
     "output_type": "stream",
     "text": [
      "2為質數\n",
      "9被3整除了\n",
      "15被3整除了\n",
      "15被5整除了\n"
     ]
    }
   ],
   "source": [
    "print('2為質數')\n",
    "for i in range(2,16): #變數由2開始到11\n",
    "    for j in range(2,16):#變數由2開始到11\n",
    "        if i%2==0: #如果i除2相等於0\n",
    "            continue #繼續下一個i\n",
    "        elif j<i: #當除數小於被除數\n",
    "            if i%j==0: #如果i除以j等於0\n",
    "                print(f\"{i}被{j}整除了\")\n",
    "                j+=1\n",
    "                continue"
   ]
  },
  {
   "cell_type": "code",
   "execution_count": 45,
   "metadata": {},
   "outputs": [
    {
     "name": "stdout",
     "output_type": "stream",
     "text": [
      "2為質數\n",
      "3不為2的因數\n",
      "5不為2的因數\n",
      "5不為3的因數\n",
      "5不為4的因數\n",
      "7不為2的因數\n",
      "7不為3的因數\n",
      "7不為4的因數\n",
      "7不為5的因數\n",
      "7不為6的因數\n",
      "9不為2的因數\n",
      "9被3整除了\n",
      "9不為4的因數\n",
      "9不為5的因數\n",
      "9不為6的因數\n",
      "9不為7的因數\n",
      "9不為8的因數\n",
      "11不為2的因數\n",
      "11不為3的因數\n",
      "11不為4的因數\n",
      "11不為5的因數\n",
      "11不為6的因數\n",
      "11不為7的因數\n",
      "11不為8的因數\n",
      "11不為9的因數\n",
      "11不為10的因數\n",
      "13不為2的因數\n",
      "13不為3的因數\n",
      "13不為4的因數\n",
      "13不為5的因數\n",
      "13不為6的因數\n",
      "13不為7的因數\n",
      "13不為8的因數\n",
      "13不為9的因數\n",
      "13不為10的因數\n",
      "13不為11的因數\n",
      "13不為12的因數\n",
      "15不為2的因數\n",
      "15被3整除了\n",
      "15不為4的因數\n",
      "15被5整除了\n",
      "15不為6的因數\n",
      "15不為7的因數\n",
      "15不為8的因數\n",
      "15不為9的因數\n",
      "15不為10的因數\n",
      "15不為11的因數\n",
      "15不為12的因數\n",
      "15不為13的因數\n",
      "15不為14的因數\n"
     ]
    }
   ],
   "source": [
    "print('2為質數')\n",
    "for i in range(2,16): #變數由2開始到11\n",
    "    for j in range(2,16):#變數由2開始到11\n",
    "        if i%2==0: #如果i除2相等於0\n",
    "            continue #繼續下一個i\n",
    "        elif j<i: #當除數小於被除數\n",
    "            if i%j==0: #如果i除以j等於0\n",
    "                print(f'{i}被{j}整除了')\n",
    "                continue\n",
    "            elif i%j!=0:\n",
    "                print(f'{i}不為{j}的因數')"
   ]
  },
  {
   "cell_type": "code",
   "execution_count": 39,
   "metadata": {},
   "outputs": [
    {
     "name": "stdout",
     "output_type": "stream",
     "text": [
      "15不是一個質數\n"
     ]
    }
   ],
   "source": [
    "end = int(input(\"請輸入end值:\"))    \n",
    "\n",
    "if end < 2:                            #質數必須為大於一的正整數，若為1或負數，必不為質數。\n",
    "    print('質數必須為大於一的正整數')    #質數的因數只有1和自己，故質數的因數相加等於(1+質數)，若某數的\n",
    "else:                                  #因數相加等於(1+某數)，則某數為質數，反之，不是質數。\n",
    "    total = 0                          #將因數之和歸零\n",
    "    for i in range(1,end+1):           \n",
    "        if end % i == 0:               #尋找因數，若為True，則i為因數\n",
    "            total += i                 #計算因數相加\n",
    "    if total == 1 + end:               #判斷是否為質數，若因數之和相等於(1+end)則為質數，反之則否。\n",
    "        print(f'{end}是一個質數')\n",
    "    else:\n",
    "        print(f'{end}不是一個質數')"
   ]
  }
 ],
 "metadata": {
  "kernelspec": {
   "display_name": ".venv",
   "language": "python",
   "name": "python3"
  },
  "language_info": {
   "codemirror_mode": {
    "name": "ipython",
    "version": 3
   },
   "file_extension": ".py",
   "mimetype": "text/x-python",
   "name": "python",
   "nbconvert_exporter": "python",
   "pygments_lexer": "ipython3",
   "version": "3.10.8"
  },
  "orig_nbformat": 4
 },
 "nbformat": 4,
 "nbformat_minor": 2
}

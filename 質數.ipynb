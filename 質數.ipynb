{
 "cells": [
  {
   "cell_type": "code",
   "execution_count": 1,
   "metadata": {},
   "outputs": [
    {
     "name": "stdout",
     "output_type": "stream",
     "text": [
      "1為15的因數\n",
      "3為15的因數\n",
      "5為15的因數\n",
      "15為15的因數\n"
     ]
    }
   ],
   "source": [
    "num = int(input(\"請輸入整數，求所有因數:\"))\n",
    "x=1\n",
    "while x<=num:\n",
    "    if num%x==0:\n",
    "        print(f'{x}為{num}的因數')\n",
    "        x+=1\n",
    "        continue\n",
    "    elif num%x!=0:\n",
    "        x+=1\n",
    "        continue"
   ]
  },
  {
   "cell_type": "code",
   "execution_count": 4,
   "metadata": {},
   "outputs": [
    {
     "name": "stdout",
     "output_type": "stream",
     "text": [
      "1*1=1\t1*2=2\t1*3=3\t1*4=4\t1*5=5\t1*6=6\t1*7=7\t1*8=8\t1*9=9\t\n",
      "2*1=2\t2*2=4\t2*3=6\t2*4=8\t2*5=10\t2*6=12\t2*7=14\t2*8=16\t2*9=18\t\n",
      "3*1=3\t3*2=6\t3*3=9\t3*4=12\t3*5=15\t3*6=18\t3*7=21\t3*8=24\t3*9=27\t\n",
      "4*1=4\t4*2=8\t4*3=12\t4*4=16\t4*5=20\t4*6=24\t4*7=28\t4*8=32\t4*9=36\t\n",
      "5*1=5\t5*2=10\t5*3=15\t5*4=20\t5*5=25\t5*6=30\t5*7=35\t5*8=40\t5*9=45\t\n",
      "6*1=6\t6*2=12\t6*3=18\t6*4=24\t6*5=30\t6*6=36\t6*7=42\t6*8=48\t6*9=54\t\n",
      "7*1=7\t7*2=14\t7*3=21\t7*4=28\t7*5=35\t7*6=42\t7*7=49\t7*8=56\t7*9=63\t\n",
      "8*1=8\t8*2=16\t8*3=24\t8*4=32\t8*5=40\t8*6=48\t8*7=56\t8*8=64\t8*9=72\t\n",
      "9*1=9\t9*2=18\t9*3=27\t9*4=36\t9*5=45\t9*6=54\t9*7=63\t9*8=72\t9*9=81\t\n"
     ]
    }
   ],
   "source": [
    "#使用For的巢狀廻圈做99乘法表\n",
    "for i in range(1,10):\n",
    "    for j in range(1,10):\n",
    "        print(f'{i}*{j}={i*j}',end=\"\\t\")\n",
    "    print()"
   ]
  },
  {
   "cell_type": "code",
   "execution_count": 31,
   "metadata": {},
   "outputs": [
    {
     "name": "stdout",
     "output_type": "stream",
     "text": [
      "2 3 5 7 11 13 "
     ]
    }
   ],
   "source": [
    "value=int(input('請輸入結束值'))\n",
    "for i in range(2,value+1): #變數由2開始到11\n",
    "    prime=True\n",
    "    for j in range(2,i):#變數由2開始到11\n",
    "        if i%j==0: #如果i除以j等於0\n",
    "            #print(f'{i}被{j}整除')\n",
    "            prime=False\n",
    "            #這一行是刪除能被整除的數字\n",
    "    if prime:\n",
    "        print(f'{i}',end=\" \")"
   ]
  },
  {
   "cell_type": "code",
   "execution_count": 48,
   "metadata": {},
   "outputs": [
    {
     "name": "stdout",
     "output_type": "stream",
     "text": [
      "16\n",
      "16\n",
      "16\n",
      "16\n",
      "16\n",
      "16\n",
      "16\n",
      "16\n",
      "16\n",
      "16\n",
      "16\n",
      "16\n"
     ]
    }
   ],
   "source": [
    "#使用while寫法\n",
    "value=int(input('請輸入結束值'))\n",
    "print(value)\n",
    "p=True\n",
    "i=2\n",
    "while i<value:\n",
    "    if value%i==0:\n",
    "        p=False\n",
    "        i+=1\n",
    "        \n",
    "    else:\n",
    "        i+=1\n",
    "        print(value)\n",
    "        continue"
   ]
  },
  {
   "cell_type": "code",
   "execution_count": 51,
   "metadata": {},
   "outputs": [
    {
     "ename": "TypeError",
     "evalue": "'int' object is not iterable",
     "output_type": "error",
     "traceback": [
      "\u001b[1;31m---------------------------------------------------------------------------\u001b[0m",
      "\u001b[1;31mTypeError\u001b[0m                                 Traceback (most recent call last)",
      "\u001b[1;32mc:\\20230901_homework\\python作業\\20230923 迴圈暫存資料夾\\質數.ipynb 儲存格 5\u001b[0m line \u001b[0;36m1\n\u001b[1;32m----> <a href='vscode-notebook-cell:/c%3A/20230901_homework/python%E4%BD%9C%E6%A5%AD/20230923%20%E8%BF%B4%E5%9C%88%E6%9A%AB%E5%AD%98%E8%B3%87%E6%96%99%E5%A4%BE/%E8%B3%AA%E6%95%B8.ipynb#X16sZmlsZQ%3D%3D?line=0'>1</a>\u001b[0m \u001b[39mlist\u001b[39;49m(\u001b[39mint\u001b[39;49m(\u001b[39minput\u001b[39;49m(\u001b[39m5\u001b[39;49m)))\n",
      "\u001b[1;31mTypeError\u001b[0m: 'int' object is not iterable"
     ]
    }
   ],
   "source": [
    "list(int(input(5)))"
   ]
  },
  {
   "cell_type": "code",
   "execution_count": 19,
   "metadata": {},
   "outputs": [
    {
     "name": "stdout",
     "output_type": "stream",
     "text": [
      "1到16的質數是:\n",
      "2 3 5 7 11 13 "
     ]
    }
   ],
   "source": [
    "#求質數\n",
    "end = int(input(\"請輸入end值:\"))\n",
    "print(f\"1到{end}的質數是:\")\n",
    "for num in range(2,end+1):\n",
    "    is_prime = True\n",
    "    for i in range(2,num):\n",
    "        if num % i == 0:\n",
    "            is_prime = False\n",
    "\n",
    "    if is_prime:\n",
    "        print(f\"{num}\",end=\" \")\n"
   ]
  },
  {
   "cell_type": "code",
   "execution_count": 8,
   "metadata": {},
   "outputs": [
    {
     "name": "stdout",
     "output_type": "stream",
     "text": [
      "從2到16的質數是：\n",
      "3為質數\n",
      "5為質數\n",
      "5為質數\n",
      "5為質數\n",
      "7為質數\n",
      "7為質數\n",
      "7為質數\n",
      "7為質數\n",
      "7為質數\n",
      "9為質數\n",
      "11為質數\n",
      "11為質數\n",
      "11為質數\n",
      "11為質數\n",
      "11為質數\n",
      "11為質數\n",
      "11為質數\n",
      "11為質數\n",
      "11為質數\n",
      "13為質數\n",
      "13為質數\n",
      "13為質數\n",
      "13為質數\n",
      "13為質數\n",
      "13為質數\n",
      "13為質數\n",
      "13為質數\n",
      "13為質數\n",
      "13為質數\n",
      "13為質數\n",
      "15為質數\n"
     ]
    }
   ],
   "source": [
    "end=int(input('給我一個數字'))\n",
    "print(f'從2到{end}的質數是：')\n",
    "for i in range(2,end+1):\n",
    "    prime=True\n",
    "    for j in range(2,end):\n",
    "        if i%j==0:\n",
    "            prime=False\n",
    "            continue\n",
    "        elif prime==True:\n",
    "            print(f'{i}為質數')"
   ]
  },
  {
   "cell_type": "code",
   "execution_count": 19,
   "metadata": {},
   "outputs": [
    {
     "name": "stdout",
     "output_type": "stream",
     "text": [
      "1到16的質數是:\n",
      "2 3 5 7 11 13 "
     ]
    }
   ],
   "source": [
    "#求質數\n",
    "end = int(input(\"請輸入end值:\"))\n",
    "print(f\"1到{end}的質數是:\")\n",
    "for num in range(2,end+1):\n",
    "    is_prime = True\n",
    "    for i in range(2,num):\n",
    "        if num % i == 0:\n",
    "            is_prime = False\n",
    "\n",
    "    if is_prime:\n",
    "        print(f\"{num}\",end=\" \")"
   ]
  }
 ],
 "metadata": {
  "kernelspec": {
   "display_name": ".venv",
   "language": "python",
   "name": "python3"
  },
  "language_info": {
   "codemirror_mode": {
    "name": "ipython",
    "version": 3
   },
   "file_extension": ".py",
   "mimetype": "text/x-python",
   "name": "python",
   "nbconvert_exporter": "python",
   "pygments_lexer": "ipython3",
   "version": "3.10.8"
  },
  "orig_nbformat": 4
 },
 "nbformat": 4,
 "nbformat_minor": 2
}

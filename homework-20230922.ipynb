{
 "cells": [
  {
   "cell_type": "code",
   "execution_count": 2,
   "metadata": {},
   "outputs": [
    {
     "name": "stdout",
     "output_type": "stream",
     "text": [
      "1為39的因數\n",
      "3為39的因數\n",
      "13為39的因數\n",
      "39為39的因數\n"
     ]
    }
   ],
   "source": [
    "'''\n",
    "求所有因數\n",
    "num = int(input(\"請輸入整數，求所有因數:\"))\n",
    "print(num,\"的因數:\")\n",
    "'''\n",
    "num = int(input(\"請輸入整數，求所有因數:\"))\n",
    "x=1\n",
    "while x<=num:\n",
    "    if num%x==0:\n",
    "        print(f'{x}為{num}的因數')\n",
    "        x+=1\n",
    "        continue\n",
    "    elif num%x!=0:\n",
    "        x+=1\n",
    "        continue\n",
    "        \n",
    "     "
   ]
  },
  {
   "cell_type": "code",
   "execution_count": 12,
   "metadata": {},
   "outputs": [
    {
     "name": "stdout",
     "output_type": "stream",
     "text": [
      "1為24與48的公因數\n",
      "2為24與48的公因數\n",
      "3為24與48的公因數\n",
      "4為24與48的公因數\n",
      "6為24與48的公因數\n",
      "8為24與48的公因數\n",
      "12為24與48的公因數\n"
     ]
    }
   ],
   "source": [
    "'''\n",
    "求公因數\n",
    "print(\"請輸入2數,求2數公因數:\")\n",
    "n = int(input('請輸入第1個數:'))\n",
    "m = int(input('請輸入第2個數:'))\n",
    "'''\n",
    "n = int(input('請輸入第1個數:'))\n",
    "m = int(input('請輸入第2個數:'))\n",
    "x=1\n",
    "while x<n and x<m:\n",
    "    if n%x==0 and m%x==0:\n",
    "        print(f'{x}為{n}與{m}的公因數')\n",
    "        x+=1\n",
    "        continue\n",
    "    else:\n",
    "        x+=1\n",
    "        continue"
   ]
  },
  {
   "cell_type": "code",
   "execution_count": 3,
   "metadata": {},
   "outputs": [
    {
     "name": "stdout",
     "output_type": "stream",
     "text": [
      "2 3 5 7 11 13 17 19 23 29 31 37 41 43 47 53 59 61 67 71 73 79 83 89 97 101 103 107 109 113 127 131 137 139 149 151 157 163 167 173 179 181 191 193 197 199 "
     ]
    }
   ],
   "source": [
    "'''\n",
    "2~100,每一個的質數\n",
    "end = int(input(\"請輸入end值:\"))\n",
    "print(f\"1到{end}的質數是:\")\n",
    "不被任何數整除就是質數\n",
    "'''\n",
    "value=int(input('請輸入結束值'))\n",
    "for i in range(2,value+1): #變數由2開始到11\n",
    "    prime=True\n",
    "    for j in range(2,i):#變數由2開始到11\n",
    "        if i%j==0: #如果i除以j等於0\n",
    "            #print(f'{i}被{j}整除')\n",
    "            prime=False\n",
    "            #這一行是刪除能被整除的數字\n",
    "    if prime:\n",
    "        print(f'{i}',end=\" \")"
   ]
  }
 ],
 "metadata": {
  "kernelspec": {
   "display_name": ".venv",
   "language": "python",
   "name": "python3"
  },
  "language_info": {
   "codemirror_mode": {
    "name": "ipython",
    "version": 3
   },
   "file_extension": ".py",
   "mimetype": "text/x-python",
   "name": "python",
   "nbconvert_exporter": "python",
   "pygments_lexer": "ipython3",
   "version": "3.10.8"
  },
  "orig_nbformat": 4
 },
 "nbformat": 4,
 "nbformat_minor": 2
}

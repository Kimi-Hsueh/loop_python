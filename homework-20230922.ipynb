{
 "cells": [
  {
   "cell_type": "code",
   "execution_count": 110,
   "metadata": {},
   "outputs": [
    {
     "name": "stdout",
     "output_type": "stream",
     "text": [
      "1為39的因數\n",
      "3為39的因數\n",
      "13為39的因數\n",
      "39為39的因數\n"
     ]
    }
   ],
   "source": [
    "'''\n",
    "求所有因數\n",
    "num = int(input(\"請輸入整數，求所有因數:\"))\n",
    "print(num,\"的因數:\")\n",
    "'''\n",
    "num = int(input(\"請輸入整數，求所有因數:\"))\n",
    "x=1\n",
    "while x<=num:\n",
    "    if num%x==0:\n",
    "        print(f'{x}為{num}的因數')\n",
    "        x+=1\n",
    "        continue\n",
    "    elif num%x!=0:\n",
    "        x+=1\n",
    "        continue\n",
    "        \n",
    "     "
   ]
  },
  {
   "cell_type": "code",
   "execution_count": 12,
   "metadata": {},
   "outputs": [
    {
     "name": "stdout",
     "output_type": "stream",
     "text": [
      "1為24與48的公因數\n",
      "2為24與48的公因數\n",
      "3為24與48的公因數\n",
      "4為24與48的公因數\n",
      "6為24與48的公因數\n",
      "8為24與48的公因數\n",
      "12為24與48的公因數\n"
     ]
    }
   ],
   "source": [
    "'''\n",
    "求公因數\n",
    "print(\"請輸入2數,求2數公因數:\")\n",
    "n = int(input('請輸入第1個數:'))\n",
    "m = int(input('請輸入第2個數:'))\n",
    "'''\n",
    "n = int(input('請輸入第1個數:'))\n",
    "m = int(input('請輸入第2個數:'))\n",
    "x=1\n",
    "while x<n and x<m:\n",
    "    if n%x==0 and m%x==0:\n",
    "        print(f'{x}為{n}與{m}的公因數')\n",
    "        x+=1\n",
    "        continue\n",
    "    else:\n",
    "        x+=1\n",
    "        continue"
   ]
  },
  {
   "cell_type": "code",
   "execution_count": 1,
   "metadata": {},
   "outputs": [
    {
     "name": "stdout",
     "output_type": "stream",
     "text": [
      "2為質數\n",
      "9被3整除\n",
      "15被3整除\n",
      "15被5整除\n",
      "21被3整除\n",
      "21被7整除\n"
     ]
    }
   ],
   "source": [
    "'''\n",
    "2~100,每一個的質數\n",
    "end = int(input(\"請輸入end值:\"))\n",
    "print(f\"1到{end}的質數是:\")\n",
    "不在99乘法表內的就是質數\n",
    "'''\n",
    "print('2為質數')\n",
    "for i in range(2,24): #變數由2開始到11\n",
    "    for j in range(2,24):#變數由2開始到11\n",
    "        if i%2==0: #如果i除2相等於0\n",
    "            #print(f'{i}為偶數')\n",
    "            continue #繼續下一個i\n",
    "        elif j<i: #當除數小於被除數 \n",
    "            if i%j==0: #如果i除以j等於0\n",
    "                print(f'{i}被{j}整除')\n",
    "                continue #這一行是刪除能被整除的數字\n",
    "\n",
    "\n",
    "\n",
    "\n",
    "            \n",
    "    \n"
   ]
  },
  {
   "cell_type": "code",
   "execution_count": 43,
   "metadata": {},
   "outputs": [
    {
     "name": "stdout",
     "output_type": "stream",
     "text": [
      "2為質數\n",
      "2為質數\n",
      "3為質數\n",
      "3為質數\n",
      "4為質數\n"
     ]
    }
   ],
   "source": [
    "for i in range(2,5):\n",
    "    for j in range(2,5):\n",
    "        if i%j==0:\n",
    "            j+=1\n",
    "        else:\n",
    "            print(f'{i}為質數')\n",
    "            j+=1"
   ]
  }
 ],
 "metadata": {
  "kernelspec": {
   "display_name": ".venv",
   "language": "python",
   "name": "python3"
  },
  "language_info": {
   "codemirror_mode": {
    "name": "ipython",
    "version": 3
   },
   "file_extension": ".py",
   "mimetype": "text/x-python",
   "name": "python",
   "nbconvert_exporter": "python",
   "pygments_lexer": "ipython3",
   "version": "3.10.8"
  },
  "orig_nbformat": 4
 },
 "nbformat": 4,
 "nbformat_minor": 2
}
